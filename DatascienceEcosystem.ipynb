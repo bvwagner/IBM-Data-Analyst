{
 "cells": [
  {
   "cell_type": "markdown",
   "id": "fe313a72-73e6-4406-a78d-87b57731399e",
   "metadata": {
    "tags": []
   },
   "source": [
    "# Data Science tools and Ecosystem"
   ]
  },
  {
   "cell_type": "markdown",
   "id": "99ace2e1-71d3-4cec-b50a-fdd7d9e33a70",
   "metadata": {},
   "source": [
    "In this notebook, Data Science Tools and Ecosystem are summarized"
   ]
  },
  {
   "cell_type": "markdown",
   "id": "83469f63-005d-44c0-9524-5b0a7bbbb5ec",
   "metadata": {},
   "source": [
    "**Objectives:**\n",
    "- List Popular Languages for Data Science\n",
    "- Commonly Libraries used by Data Scientists\n",
    "- Data Science Tools\n",
    "- Examples of Arithmetic Express in Python"
   ]
  },
  {
   "cell_type": "markdown",
   "id": "9ddd9359-ecf0-4e9d-a644-60d2d7cf2ebc",
   "metadata": {},
   "source": [
    "Some of the popular languages that Data Scientists use are:\n",
    "1. Python\n",
    "2. R\n",
    "3. JavaScript"
   ]
  },
  {
   "cell_type": "markdown",
   "id": "83ddc8d6-eda5-4b14-9e57-3e73e178147c",
   "metadata": {},
   "source": [
    "Some of the commonly used libraries used by Data Scientists include:\n",
    "1. Pandas\n",
    "2. NumPy\n",
    "3. Seaborn"
   ]
  },
  {
   "cell_type": "markdown",
   "id": "56824c22-a640-46f8-81fc-673bfe4eff2b",
   "metadata": {},
   "source": [
    "| Data Science Tools |\n",
    "| ------------------ |\n",
    "| Jupyter |\n",
    "| RStudio |\n",
    " | Apache Spark |"
   ]
  },
  {
   "cell_type": "markdown",
   "id": "cc756433-77d5-4ff9-90de-d55146680e1a",
   "metadata": {},
   "source": [
    "### Below are a few examples of evaluating arithmetic expresss in Python"
   ]
  },
  {
   "cell_type": "code",
   "execution_count": 2,
   "id": "9479c448-8682-46b6-a2be-25bdd82dca57",
   "metadata": {
    "tags": []
   },
   "outputs": [
    {
     "data": {
      "text/plain": [
       "17"
      ]
     },
     "execution_count": 2,
     "metadata": {},
     "output_type": "execute_result"
    }
   ],
   "source": [
    "(3*4)+5\n",
    "\n",
    "# This a simple arithmetic expression to mutiply then add intergers"
   ]
  },
  {
   "cell_type": "code",
   "execution_count": 5,
   "id": "2b5b48fc-566a-4366-a9e8-6a0d4f9ce85f",
   "metadata": {
    "tags": []
   },
   "outputs": [
    {
     "name": "stdout",
     "output_type": "stream",
     "text": [
      "3.3333333333333335\n"
     ]
    }
   ],
   "source": [
    "minutes = 200\n",
    "hours = minutes / 60\n",
    "print(hours)\n",
    "\n",
    "# This will convert 200 minutes to hours by diving by 60"
   ]
  },
  {
   "cell_type": "markdown",
   "id": "c51c802f-4af2-472c-911b-05e58c852cb9",
   "metadata": {},
   "source": [
    "## Author\n",
    "Ben Wagner"
   ]
  },
  {
   "cell_type": "code",
   "execution_count": null,
   "id": "ec44161a-d345-4eef-8594-f2c31199c5ab",
   "metadata": {},
   "outputs": [],
   "source": []
  }
 ],
 "metadata": {
  "kernelspec": {
   "display_name": "Python",
   "language": "python",
   "name": "conda-env-python-py"
  },
  "language_info": {
   "codemirror_mode": {
    "name": "ipython",
    "version": 3
   },
   "file_extension": ".py",
   "mimetype": "text/x-python",
   "name": "python",
   "nbconvert_exporter": "python",
   "pygments_lexer": "ipython3",
   "version": "3.7.12"
  }
 },
 "nbformat": 4,
 "nbformat_minor": 5
}
